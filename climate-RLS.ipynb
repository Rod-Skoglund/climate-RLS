{
 "cells": [
  {
   "cell_type": "markdown",
   "metadata": {},
   "source": [
    "# <center><u><font color=\"red\">Surfs Up!</font></u></center>"
   ]
  },
  {
   "cell_type": "markdown",
   "metadata": {},
   "source": [
    "### Initial Configuration"
   ]
  },
  {
   "cell_type": "code",
   "execution_count": 1,
   "metadata": {},
   "outputs": [],
   "source": [
    "#*******************************************************************************\n",
    "# Dependencies and Setup\n",
    "#*******************************************************************************\n",
    "from matplotlib import style\n",
    "style.use('fivethirtyeight')\n",
    "import matplotlib.pyplot as plt"
   ]
  },
  {
   "cell_type": "code",
   "execution_count": 2,
   "metadata": {},
   "outputs": [],
   "source": [
    "#*******************************************************************************\n",
    "# More Dependencies\n",
    "#*******************************************************************************\n",
    "import numpy as np\n",
    "import pandas as pd"
   ]
  },
  {
   "cell_type": "code",
   "execution_count": 3,
   "metadata": {},
   "outputs": [],
   "source": [
    "#*******************************************************************************\n",
    "# datetime Dependency\n",
    "#*******************************************************************************\n",
    "import datetime as dt"
   ]
  },
  {
   "cell_type": "markdown",
   "metadata": {},
   "source": [
    "# Step 1 - Climate Analysis and Exploration"
   ]
  },
  {
   "cell_type": "markdown",
   "metadata": {},
   "source": [
    "## Reflect Tables into SQLAlchemy ORM"
   ]
  },
  {
   "cell_type": "code",
   "execution_count": 4,
   "metadata": {},
   "outputs": [],
   "source": [
    "#*******************************************************************************\n",
    "# Python SQL toolkit and Object Relational Mapper\n",
    "#*******************************************************************************\n",
    "import sqlalchemy\n",
    "from sqlalchemy.ext.automap import automap_base\n",
    "from sqlalchemy.orm import Session\n",
    "from sqlalchemy import create_engine, func, inspect"
   ]
  },
  {
   "cell_type": "code",
   "execution_count": 5,
   "metadata": {},
   "outputs": [],
   "source": [
    "#*******************************************************************************\n",
    "# Connect to the sqlite database.\n",
    "#*******************************************************************************\n",
    "engine = create_engine(\"sqlite:///Resources/hawaii.sqlite\")"
   ]
  },
  {
   "cell_type": "code",
   "execution_count": 6,
   "metadata": {},
   "outputs": [],
   "source": [
    "#*******************************************************************************\n",
    "# Reflect an existing database into a new model\n",
    "#*******************************************************************************\n",
    "Base = automap_base()\n",
    "\n",
    "#*******************************************************************************\n",
    "# reflect the tables\n",
    "#*******************************************************************************\n",
    "Base.prepare(engine, reflect=True)\n"
   ]
  },
  {
   "cell_type": "code",
   "execution_count": 7,
   "metadata": {},
   "outputs": [
    {
     "data": {
      "text/plain": [
       "['measurement', 'station']"
      ]
     },
     "execution_count": 7,
     "metadata": {},
     "output_type": "execute_result"
    }
   ],
   "source": [
    "#*******************************************************************************\n",
    "# View all of the classes that automap found\n",
    "#*******************************************************************************\n",
    "Base.classes.keys()\n"
   ]
  },
  {
   "cell_type": "code",
   "execution_count": 8,
   "metadata": {},
   "outputs": [],
   "source": [
    "#*******************************************************************************\n",
    "# Save references to each table\n",
    "#*******************************************************************************\n",
    "Measurement = Base.classes.measurement\n",
    "Station = Base.classes.station\n"
   ]
  },
  {
   "cell_type": "code",
   "execution_count": 9,
   "metadata": {},
   "outputs": [],
   "source": [
    "#*******************************************************************************\n",
    "# Create a session (link) from Python to the DB\n",
    "#*******************************************************************************\n",
    "session = Session(engine)"
   ]
  },
  {
   "cell_type": "markdown",
   "metadata": {},
   "source": [
    "# Exploratory Climate Analysis"
   ]
  },
  {
   "cell_type": "markdown",
   "metadata": {},
   "source": [
    "### Precipitation Analysis"
   ]
  },
  {
   "cell_type": "code",
   "execution_count": 10,
   "metadata": {},
   "outputs": [],
   "source": [
    "#*******************************************************************************\n",
    "# Create the inspector and connect it to the engine\n",
    "#*******************************************************************************\n",
    "inspector = inspect(engine)\n"
   ]
  },
  {
   "cell_type": "code",
   "execution_count": 11,
   "metadata": {},
   "outputs": [
    {
     "data": {
      "text/plain": [
       "['measurement', 'station']"
      ]
     },
     "execution_count": 11,
     "metadata": {},
     "output_type": "execute_result"
    }
   ],
   "source": [
    "#*******************************************************************************\n",
    "# Collect the names of tables within the database and confirm the \n",
    "# \"Base.classes.keys()\" above.\n",
    "#*******************************************************************************\n",
    "inspector.get_table_names()\n"
   ]
  },
  {
   "cell_type": "code",
   "execution_count": 12,
   "metadata": {},
   "outputs": [
    {
     "name": "stdout",
     "output_type": "stream",
     "text": [
      "id INTEGER\n",
      "station TEXT\n",
      "date TEXT\n",
      "prcp FLOAT\n",
      "tobs FLOAT\n"
     ]
    }
   ],
   "source": [
    "#*******************************************************************************\n",
    "# Use the inspector to print the column names within the 'measurement' table \n",
    "# and its types.\n",
    "#*******************************************************************************\n",
    "columns = inspector.get_columns('measurement')\n",
    "for column in columns:\n",
    "    print(column[\"name\"], column[\"type\"])\n",
    "    "
   ]
  },
  {
   "cell_type": "code",
   "execution_count": 13,
   "metadata": {},
   "outputs": [
    {
     "name": "stdout",
     "output_type": "stream",
     "text": [
      "id INTEGER\n",
      "station TEXT\n",
      "name TEXT\n",
      "latitude FLOAT\n",
      "longitude FLOAT\n",
      "elevation FLOAT\n"
     ]
    }
   ],
   "source": [
    "#*******************************************************************************\n",
    "# Use the inspector to print the column names within the 'station' table and \n",
    "# its types\n",
    "#*******************************************************************************\n",
    "columns = inspector.get_columns('station')\n",
    "for column in columns:\n",
    "    print(column[\"name\"], column[\"type\"])\n",
    "    "
   ]
  },
  {
   "cell_type": "code",
   "execution_count": 14,
   "metadata": {},
   "outputs": [
    {
     "name": "stdout",
     "output_type": "stream",
     "text": [
      "('USC00519397', '2010-01-01', 0.08)\n"
     ]
    }
   ],
   "source": [
    "#*******************************************************************************\n",
    "# Use the session to query the measurement table and display the first row\n",
    "#*******************************************************************************\n",
    "print(session.query(Measurement.station, \n",
    "                    Measurement.date, \n",
    "                    Measurement.prcp).first())\n"
   ]
  },
  {
   "cell_type": "code",
   "execution_count": 15,
   "metadata": {
    "scrolled": true
   },
   "outputs": [],
   "source": [
    "#*******************************************************************************\n",
    "# Use session to query the measurement table and get the .....\n",
    "#*******************************************************************************\n",
    "# for row in session.query(Measurement).\\\n",
    "#     filter(Measurement.date > '2015-08-08').order_by(Measurement.date).all():\n",
    "#     print(row.date, row.station, row.prcp)"
   ]
  },
  {
   "cell_type": "markdown",
   "metadata": {},
   "source": [
    "### Design a query to retrieve the last 12 months of precipitation data and plot the results"
   ]
  },
  {
   "cell_type": "code",
   "execution_count": 16,
   "metadata": {},
   "outputs": [
    {
     "name": "stdout",
     "output_type": "stream",
     "text": [
      "Newest date in the Measurement table = 2017-08-23\n",
      "one_year_earlier = 2016-08-22\n"
     ]
    }
   ],
   "source": [
    "################################################################################\n",
    "# Calculate the date 1 year ago from the last data point in the database\n",
    "################################################################################\n",
    "\n",
    "#*******************************************************************************\n",
    "# find the newest date (last data point) in the Measurement table\n",
    "#*******************************************************************************\n",
    "dt_last_date = session.query(Measurement.date).order_by(Measurement.date.desc()).first()[0]\n",
    "print(\"Newest date in the Measurement table = {}\".format(dt_last_date))\n",
    "\n",
    "#*******************************************************************************\n",
    "# convert the last date from the Measurement table to a valid date format\n",
    "#*******************************************************************************\n",
    "dt_last_date = dt.datetime.strptime(dt_last_date, '%Y-%m-%d')\n",
    "dt_last_date = dt_last_date.date()\n",
    "\n",
    "#*******************************************************************************\n",
    "# find the date one year prior to the oldest date in the table\n",
    "#*******************************************************************************\n",
    "one_year_earlier = dt_last_date - dt.timedelta(days=366)\n",
    "print(\"one_year_earlier = {}\".format(one_year_earlier))\n"
   ]
  },
  {
   "cell_type": "code",
   "execution_count": 59,
   "metadata": {},
   "outputs": [
    {
     "data": {
      "text/html": [
       "<div>\n",
       "<style scoped>\n",
       "    .dataframe tbody tr th:only-of-type {\n",
       "        vertical-align: middle;\n",
       "    }\n",
       "\n",
       "    .dataframe tbody tr th {\n",
       "        vertical-align: top;\n",
       "    }\n",
       "\n",
       "    .dataframe thead th {\n",
       "        text-align: right;\n",
       "    }\n",
       "</style>\n",
       "<table border=\"1\" class=\"dataframe\">\n",
       "  <thead>\n",
       "    <tr style=\"text-align: right;\">\n",
       "      <th></th>\n",
       "      <th>prcp</th>\n",
       "    </tr>\n",
       "    <tr>\n",
       "      <th>date</th>\n",
       "      <th></th>\n",
       "    </tr>\n",
       "  </thead>\n",
       "  <tbody>\n",
       "    <tr>\n",
       "      <th>2016-08-23</th>\n",
       "      <td>1.79</td>\n",
       "    </tr>\n",
       "    <tr>\n",
       "      <th>2016-08-23</th>\n",
       "      <td>0.70</td>\n",
       "    </tr>\n",
       "    <tr>\n",
       "      <th>2016-08-23</th>\n",
       "      <td>0.02</td>\n",
       "    </tr>\n",
       "    <tr>\n",
       "      <th>2016-08-23</th>\n",
       "      <td>0.05</td>\n",
       "    </tr>\n",
       "    <tr>\n",
       "      <th>2016-08-24</th>\n",
       "      <td>2.15</td>\n",
       "    </tr>\n",
       "  </tbody>\n",
       "</table>\n",
       "</div>"
      ],
      "text/plain": [
       "            prcp\n",
       "date            \n",
       "2016-08-23  1.79\n",
       "2016-08-23  0.70\n",
       "2016-08-23  0.02\n",
       "2016-08-23  0.05\n",
       "2016-08-24  2.15"
      ]
     },
     "execution_count": 59,
     "metadata": {},
     "output_type": "execute_result"
    }
   ],
   "source": [
    "#*******************************************************************************\n",
    "# Perform a query to retrieve the data and precipitation scores\n",
    "#*******************************************************************************\n",
    "# daily_percipitation = session.query(Measurement.date.label('date'), \n",
    "#                                     func.sum(Measurement.prcp).label('precipitation')).\\\n",
    "#                                     filter(Measurement.date > \"2016-08-22\")\n",
    "\n",
    "daily_percipitation = session.query(Measurement.date, Measurement.prcp).\\\n",
    "                                    filter(Measurement.date > one_year_earlier)\n",
    "\n",
    "#*******************************************************************************\n",
    "# Save the query results as a Pandas DataFrame and set the index to the date \n",
    "# column\n",
    "#*******************************************************************************\n",
    "last_year_precipitation_df = pd.DataFrame(daily_percipitation[366:], \n",
    "                                          columns=['date', 'prcp'])\n",
    "\n",
    "last_year_precipitation_df.set_index('date', inplace=True)\n",
    "last_year_precipitation_df = last_year_precipitation_df.dropna(how='any')\n",
    "last_year_precipitation_df = last_year_precipitation_df.sort_values(\"date\", ascending=True)\n",
    "last_year_precipitation_df.head()\n"
   ]
  },
  {
   "cell_type": "code",
   "execution_count": 60,
   "metadata": {},
   "outputs": [],
   "source": [
    "# Set x axis and tick locations\n",
    "x_axis = np.arange(len(last_year_precipitation_df))\n",
    "tick_locations = [value for value in x_axis]"
   ]
  },
  {
   "cell_type": "code",
   "execution_count": 61,
   "metadata": {},
   "outputs": [
    {
     "data": {
      "image/png": "[encoded data removed]",
      "text/plain": [
       "<Figure size 432x288 with 1 Axes>"
      ]
     },
     "metadata": {
      "needs_background": "light"
     },
     "output_type": "display_data"
    }
   ],
   "source": [
    "#plt.figure(figsize=(20,5))\n",
    "plt.bar(x_axis, last_year_precipitation_df[\"prcp\"], color='black', alpha=0.5, align=\"center\", width=10)\n",
    "plt.xticks([])\n",
    "\n",
    "# Give our chart some labels and a tile\n",
    "plt.title(\"Percipitation\")\n",
    "plt.xlabel(\"Date\")\n",
    "plt.ylabel(\"Percipitation (inches)\")\n",
    "\n",
    "\n",
    "#plt.xticks(tick_locations, last_year_precipitation_df[\"date\"], rotation=\"vertical\")\n",
    "plt.show()"
   ]
  },
  {
   "cell_type": "code",
   "execution_count": 62,
   "metadata": {},
   "outputs": [
    {
     "data": {
      "text/html": [
       "<div>\n",
       "<style scoped>\n",
       "    .dataframe tbody tr th:only-of-type {\n",
       "        vertical-align: middle;\n",
       "    }\n",
       "\n",
       "    .dataframe tbody tr th {\n",
       "        vertical-align: top;\n",
       "    }\n",
       "\n",
       "    .dataframe thead th {\n",
       "        text-align: right;\n",
       "    }\n",
       "</style>\n",
       "<table border=\"1\" class=\"dataframe\">\n",
       "  <thead>\n",
       "    <tr style=\"text-align: right;\">\n",
       "      <th></th>\n",
       "      <th>prcp</th>\n",
       "    </tr>\n",
       "  </thead>\n",
       "  <tbody>\n",
       "    <tr>\n",
       "      <th>count</th>\n",
       "      <td>2021.000000</td>\n",
       "    </tr>\n",
       "    <tr>\n",
       "      <th>mean</th>\n",
       "      <td>0.177279</td>\n",
       "    </tr>\n",
       "    <tr>\n",
       "      <th>std</th>\n",
       "      <td>0.461190</td>\n",
       "    </tr>\n",
       "    <tr>\n",
       "      <th>min</th>\n",
       "      <td>0.000000</td>\n",
       "    </tr>\n",
       "    <tr>\n",
       "      <th>25%</th>\n",
       "      <td>0.000000</td>\n",
       "    </tr>\n",
       "    <tr>\n",
       "      <th>50%</th>\n",
       "      <td>0.020000</td>\n",
       "    </tr>\n",
       "    <tr>\n",
       "      <th>75%</th>\n",
       "      <td>0.130000</td>\n",
       "    </tr>\n",
       "    <tr>\n",
       "      <th>max</th>\n",
       "      <td>6.700000</td>\n",
       "    </tr>\n",
       "  </tbody>\n",
       "</table>\n",
       "</div>"
      ],
      "text/plain": [
       "              prcp\n",
       "count  2021.000000\n",
       "mean      0.177279\n",
       "std       0.461190\n",
       "min       0.000000\n",
       "25%       0.000000\n",
       "50%       0.020000\n",
       "75%       0.130000\n",
       "max       6.700000"
      ]
     },
     "execution_count": 62,
     "metadata": {},
     "output_type": "execute_result"
    }
   ],
   "source": [
    "#*******************************************************************************\n",
    "# Use Pandas to calcualte the summary statistics for the precipitation data\n",
    "#*******************************************************************************\n",
    "all_percipitation = session.query(Measurement.date.label(\"date\"), Measurement.prcp).\\\n",
    "                                  filter(Measurement.date > one_year_earlier)\n",
    "\n",
    "all_percipitation_df = pd.DataFrame(all_percipitation[:], columns=['date', 'prcp'])\n",
    "all_percipitation_df.set_index('date', inplace=True, )\n",
    "all_percipitation_df.head()\n",
    "\n",
    "all_percipitation_df.describe()"
   ]
  },
  {
   "cell_type": "code",
   "execution_count": null,
   "metadata": {},
   "outputs": [],
   "source": []
  },
  {
   "cell_type": "markdown",
   "metadata": {},
   "source": [
    "### Station Analysis"
   ]
  },
  {
   "cell_type": "code",
   "execution_count": 63,
   "metadata": {},
   "outputs": [
    {
     "name": "stdout",
     "output_type": "stream",
     "text": [
      "The number of stations is 9\n"
     ]
    }
   ],
   "source": [
    "#*******************************************************************************\n",
    "# Design a query to show how many stations are available in this dataset?\n",
    "#*******************************************************************************\n",
    "num_stations = session.query(Measurement.station).group_by(Measurement.station).\\\n",
    "               distinct(Measurement.station).count()\n",
    "print(f'The number of stations is {num_stations}')"
   ]
  },
  {
   "cell_type": "code",
   "execution_count": 64,
   "metadata": {},
   "outputs": [
    {
     "data": {
      "text/html": [
       "<div>\n",
       "<style scoped>\n",
       "    .dataframe tbody tr th:only-of-type {\n",
       "        vertical-align: middle;\n",
       "    }\n",
       "\n",
       "    .dataframe tbody tr th {\n",
       "        vertical-align: top;\n",
       "    }\n",
       "\n",
       "    .dataframe thead th {\n",
       "        text-align: right;\n",
       "    }\n",
       "</style>\n",
       "<table border=\"1\" class=\"dataframe\">\n",
       "  <thead>\n",
       "    <tr style=\"text-align: right;\">\n",
       "      <th></th>\n",
       "      <th>station</th>\n",
       "      <th>station_count</th>\n",
       "    </tr>\n",
       "  </thead>\n",
       "  <tbody>\n",
       "    <tr>\n",
       "      <th>0</th>\n",
       "      <td>USC00519281</td>\n",
       "      <td>2772</td>\n",
       "    </tr>\n",
       "    <tr>\n",
       "      <th>1</th>\n",
       "      <td>USC00519397</td>\n",
       "      <td>2724</td>\n",
       "    </tr>\n",
       "    <tr>\n",
       "      <th>2</th>\n",
       "      <td>USC00513117</td>\n",
       "      <td>2709</td>\n",
       "    </tr>\n",
       "    <tr>\n",
       "      <th>3</th>\n",
       "      <td>USC00519523</td>\n",
       "      <td>2669</td>\n",
       "    </tr>\n",
       "    <tr>\n",
       "      <th>4</th>\n",
       "      <td>USC00516128</td>\n",
       "      <td>2612</td>\n",
       "    </tr>\n",
       "    <tr>\n",
       "      <th>5</th>\n",
       "      <td>USC00514830</td>\n",
       "      <td>2202</td>\n",
       "    </tr>\n",
       "    <tr>\n",
       "      <th>6</th>\n",
       "      <td>USC00511918</td>\n",
       "      <td>1979</td>\n",
       "    </tr>\n",
       "    <tr>\n",
       "      <th>7</th>\n",
       "      <td>USC00517948</td>\n",
       "      <td>1372</td>\n",
       "    </tr>\n",
       "    <tr>\n",
       "      <th>8</th>\n",
       "      <td>USC00518838</td>\n",
       "      <td>511</td>\n",
       "    </tr>\n",
       "  </tbody>\n",
       "</table>\n",
       "</div>"
      ],
      "text/plain": [
       "       station  station_count\n",
       "0  USC00519281           2772\n",
       "1  USC00519397           2724\n",
       "2  USC00513117           2709\n",
       "3  USC00519523           2669\n",
       "4  USC00516128           2612\n",
       "5  USC00514830           2202\n",
       "6  USC00511918           1979\n",
       "7  USC00517948           1372\n",
       "8  USC00518838            511"
      ]
     },
     "execution_count": 64,
     "metadata": {},
     "output_type": "execute_result"
    }
   ],
   "source": [
    "#*******************************************************************************\n",
    "# What are the most active stations? (i.e. what stations have the most rows)?\n",
    "# List the stations and the counts in descending order.\n",
    "#*******************************************************************************\n",
    "station_data = session.query(Measurement.station.label('station'), \n",
    "                             Measurement.prcp.label('percipitation'), \n",
    "                             func.count(Measurement.station).label('station_count')).\\\n",
    "                             group_by(Measurement.station).\\\n",
    "                             order_by(func.count(Measurement.station).desc())\n",
    "\n",
    "station_active_df = pd.DataFrame([(d.station, d.station_count) for d in station_data], \n",
    "                                      columns=['station', 'station_count'])\n",
    "\n",
    "station_active_df.head(num_stations)"
   ]
  },
  {
   "cell_type": "code",
   "execution_count": 65,
   "metadata": {},
   "outputs": [
    {
     "name": "stdout",
     "output_type": "stream",
     "text": [
      "The most active station is USC00519281. For this station:\n",
      "The minimum temperature was 54.0.\n",
      "The maximum temperature was 85.0.\n",
      "The average temperature was 71.66378066378067.\n"
     ]
    }
   ],
   "source": [
    "#*******************************************************************************\n",
    "# Using the station id from the previous query, calculate the lowest temperature recorded, \n",
    "# highest temperature recorded, and average temperature most active station?\n",
    "#*******************************************************************************\n",
    "most_active_station = station_data.first()[0]\n",
    "\n",
    "most_active_station_summary_data = session.query(func.min(Measurement.tobs), \n",
    "                                                 func.max(Measurement.tobs), \n",
    "                                                 func.avg(Measurement.tobs)).\\\n",
    "                                                 filter(Measurement.station == most_active_station)\n",
    "\n",
    "print(f\"The most active station is {most_active_station}. For this station:\")\n",
    "print(f\"The minimum temperature was {most_active_station_summary_data.first()[0]}.\")\n",
    "print(f\"The maximum temperature was {most_active_station_summary_data.first()[1]}.\")\n",
    "print(f\"The average temperature was {most_active_station_summary_data.first()[2]}.\")\n"
   ]
  },
  {
   "cell_type": "code",
   "execution_count": 66,
   "metadata": {},
   "outputs": [
    {
     "data": {
      "text/html": [
       "<div>\n",
       "<style scoped>\n",
       "    .dataframe tbody tr th:only-of-type {\n",
       "        vertical-align: middle;\n",
       "    }\n",
       "\n",
       "    .dataframe tbody tr th {\n",
       "        vertical-align: top;\n",
       "    }\n",
       "\n",
       "    .dataframe thead th {\n",
       "        text-align: right;\n",
       "    }\n",
       "</style>\n",
       "<table border=\"1\" class=\"dataframe\">\n",
       "  <thead>\n",
       "    <tr style=\"text-align: right;\">\n",
       "      <th></th>\n",
       "      <th>station</th>\n",
       "      <th>tobs</th>\n",
       "    </tr>\n",
       "  </thead>\n",
       "  <tbody>\n",
       "    <tr>\n",
       "      <th>0</th>\n",
       "      <td>USC00519281</td>\n",
       "      <td>77.0</td>\n",
       "    </tr>\n",
       "    <tr>\n",
       "      <th>1</th>\n",
       "      <td>USC00519281</td>\n",
       "      <td>77.0</td>\n",
       "    </tr>\n",
       "    <tr>\n",
       "      <th>2</th>\n",
       "      <td>USC00519281</td>\n",
       "      <td>80.0</td>\n",
       "    </tr>\n",
       "    <tr>\n",
       "      <th>3</th>\n",
       "      <td>USC00519281</td>\n",
       "      <td>80.0</td>\n",
       "    </tr>\n",
       "    <tr>\n",
       "      <th>4</th>\n",
       "      <td>USC00519281</td>\n",
       "      <td>75.0</td>\n",
       "    </tr>\n",
       "  </tbody>\n",
       "</table>\n",
       "</div>"
      ],
      "text/plain": [
       "       station  tobs\n",
       "0  USC00519281  77.0\n",
       "1  USC00519281  77.0\n",
       "2  USC00519281  80.0\n",
       "3  USC00519281  80.0\n",
       "4  USC00519281  75.0"
      ]
     },
     "execution_count": 66,
     "metadata": {},
     "output_type": "execute_result"
    }
   ],
   "source": [
    "#*******************************************************************************\n",
    "# Plot the results as a histogram with `bins=12`\n",
    "#*******************************************************************************\n",
    "most_active_station_data = session.query(Measurement.station, Measurement.tobs).\\\n",
    "                                    filter(Measurement.date > one_year_earlier).\\\n",
    "                             filter(Measurement.station == most_active_station)\n",
    "\n",
    "most_active_station_df = pd.DataFrame([(d.station, d.tobs) for d in most_active_station_data], \n",
    "                                      columns=['station', 'tobs'])\n",
    "\n",
    "most_active_station_df.head()\n"
   ]
  },
  {
   "cell_type": "code",
   "execution_count": 67,
   "metadata": {},
   "outputs": [],
   "source": [
    "# # Choose the station with the highest number of temperature observations.\n",
    "# # Query the last 12 months of temperature observation data for this station and plot the results as a histogram\n",
    "# # Create the bins in which Data will be held\n",
    "# bins = [0, 61, 63, 65, 67, 69, 71, 73, 75, 77, 79, 81, 85]\n",
    "\n",
    "# # Create the labels for the bins\n",
    "# group_labels = []"
   ]
  },
  {
   "cell_type": "code",
   "execution_count": 68,
   "metadata": {},
   "outputs": [
    {
     "data": {
      "text/html": [
       "<div>\n",
       "<style scoped>\n",
       "    .dataframe tbody tr th:only-of-type {\n",
       "        vertical-align: middle;\n",
       "    }\n",
       "\n",
       "    .dataframe tbody tr th {\n",
       "        vertical-align: top;\n",
       "    }\n",
       "\n",
       "    .dataframe thead th {\n",
       "        text-align: right;\n",
       "    }\n",
       "</style>\n",
       "<table border=\"1\" class=\"dataframe\">\n",
       "  <thead>\n",
       "    <tr style=\"text-align: right;\">\n",
       "      <th></th>\n",
       "      <th>tobs</th>\n",
       "    </tr>\n",
       "  </thead>\n",
       "  <tbody>\n",
       "    <tr>\n",
       "      <th>0</th>\n",
       "      <td>77.0</td>\n",
       "    </tr>\n",
       "    <tr>\n",
       "      <th>1</th>\n",
       "      <td>77.0</td>\n",
       "    </tr>\n",
       "    <tr>\n",
       "      <th>2</th>\n",
       "      <td>80.0</td>\n",
       "    </tr>\n",
       "    <tr>\n",
       "      <th>3</th>\n",
       "      <td>80.0</td>\n",
       "    </tr>\n",
       "    <tr>\n",
       "      <th>4</th>\n",
       "      <td>75.0</td>\n",
       "    </tr>\n",
       "  </tbody>\n",
       "</table>\n",
       "</div>"
      ],
      "text/plain": [
       "   tobs\n",
       "0  77.0\n",
       "1  77.0\n",
       "2  80.0\n",
       "3  80.0\n",
       "4  75.0"
      ]
     },
     "execution_count": 68,
     "metadata": {},
     "output_type": "execute_result"
    }
   ],
   "source": [
    "# Get the ages of the unique players\n",
    "temp_only_df = most_active_station_df.loc[:, [\"tobs\"]]\n",
    "\n",
    "# Convert the Age to a number\n",
    "temp_only_df[\"tobs\"] = pd.to_numeric(temp_only_df[\"tobs\"])\n",
    "\n",
    "# Display the table of ages\n",
    "temp_only_df.head()\n",
    "\n",
    "#temp_only_df[\"Temp Summary\"] = pd.cut(temp_only_df[\"tobs\"], bins, right=False)\n",
    "#temp_only_df = temp_only_df.groupby(\"Temp Summary\").count()\n",
    "#temp_df = temp_only_df.rename(columns={\"tobs\":\"Total Count\"})\n",
    "\n",
    "temp_only_df.head()\n"
   ]
  },
  {
   "cell_type": "code",
   "execution_count": 69,
   "metadata": {},
   "outputs": [],
   "source": [
    "# # Use DataFrame.plot() in order to create a bar chart of the data\n",
    "# temp_only_df.plot(kind=\"bar\", width=1.0)\n",
    "# # plt.xticks([60, 65, 70, 75, 80])\n",
    "\n",
    "# plt.ylabel(\"Frequency\")\n"
   ]
  },
  {
   "cell_type": "code",
   "execution_count": 70,
   "metadata": {},
   "outputs": [
    {
     "data": {
      "image/png": "[encoded data removed]",
      "text/plain": [
       "<Figure size 432x288 with 1 Axes>"
      ]
     },
     "metadata": {
      "needs_background": "light"
     },
     "output_type": "display_data"
    }
   ],
   "source": [
    "#temp_df.plot.hist(bins=12, alpha=1)\n",
    "temp_only_df[[\"tobs\"]].plot(kind=\"hist\", bins=12)\n",
    "\n",
    "#plt.xticks([60, 65, 70, 75, 80])\n",
    "\n",
    "#temp_df.Series([0, 61, 63, 65, 67, 69, 71, 73, 75, 77, 79, 81, 85]).hist(bins=12, range=(55, 85)).figure\n",
    "\n",
    "plt.show()"
   ]
  },
  {
   "cell_type": "code",
   "execution_count": 71,
   "metadata": {},
   "outputs": [
    {
     "name": "stdout",
     "output_type": "stream",
     "text": [
      "[(62.0, 69.57142857142857, 74.0)]\n"
     ]
    }
   ],
   "source": [
    "# This function called `calc_temps` will accept start date and end date in the format '%Y-%m-%d' \n",
    "# and return the minimum, average, and maximum temperatures for that range of dates\n",
    "def calc_temps(start_date, end_date):\n",
    "    \"\"\"TMIN, TAVG, and TMAX for a list of dates.\n",
    "    \n",
    "    Args:\n",
    "        start_date (string): A date string in the format %Y-%m-%d\n",
    "        end_date (string): A date string in the format %Y-%m-%d\n",
    "        \n",
    "    Returns:\n",
    "        TMIN, TAVE, and TMAX\n",
    "    \"\"\"\n",
    "    \n",
    "    return session.query(func.min(Measurement.tobs), func.avg(Measurement.tobs), func.max(Measurement.tobs)).\\\n",
    "        filter(Measurement.date >= start_date).filter(Measurement.date <= end_date).all()\n",
    "\n",
    "# function usage example\n",
    "print(calc_temps('2012-02-28', '2012-03-05'))"
   ]
  },
  {
   "cell_type": "code",
   "execution_count": 72,
   "metadata": {},
   "outputs": [
    {
     "name": "stdout",
     "output_type": "stream",
     "text": [
      "2016-08-22\n",
      "2017-08-23\n",
      "[(61.0, 70.46511627906976, 77.0)]\n"
     ]
    }
   ],
   "source": [
    "# Use your previous function `calc_temps` to calculate the tmin, tavg, and tmax \n",
    "# for your trip using the previous year's data for those same dates.\n",
    "print(one_year_earlier)\n",
    "print(dt_last_date)\n",
    "print(calc_temps('2017-02-15', '2017-03-0'))"
   ]
  },
  {
   "cell_type": "code",
   "execution_count": 73,
   "metadata": {},
   "outputs": [
    {
     "name": "stdout",
     "output_type": "stream",
     "text": [
      "61.0\n",
      "70.46511627906976\n",
      "77.0\n"
     ]
    }
   ],
   "source": [
    "# Plot the results from your previous query as a bar chart. \n",
    "# Use \"Trip Avg Temp\" as your Title\n",
    "# Use the average temperature for the y value\n",
    "# Use the peak-to-peak (tmax-tmin) value as the y error bar (yerr)\n",
    "temp_data = calc_temps('2017-02-15', '2017-03-0')\n",
    "print(temp_data[0][0])\n",
    "print(temp_data[0][1])\n",
    "print(temp_data[0][2])\n",
    "temp_min = temp_data[0][0]\n",
    "temp_err = temp_data[0][1]\n",
    "temp_max = temp_data[0][2]\n",
    "\n",
    "# n_groups = 1\n",
    "\n",
    "# means_men = (temp_max)\n",
    "# std_men = (temp_err)\n",
    "\n",
    "# fig, ax = plt.subplots()\n",
    "\n",
    "# index = np.arange(n_groups)\n",
    "# bar_width = 0.10\n",
    "\n",
    "# opacity = 0.4\n",
    "# error_config = {'ecolor': '0.3'}\n",
    "\n",
    "# rects1 = ax.bar(index, means_men, bar_width,\n",
    "#                 alpha=opacity, color='b',\n",
    "#                 yerr=std_men, error_kw=error_config,\n",
    "#                 label='Men')\n",
    "\n",
    "# #ax.set_xlabel('Group')\n",
    "# ax.set_ylabel('Scores')\n",
    "# #ax.set_title('Scores by group and gender')\n",
    "# #ax.set_xticks(index + bar_width / 2)\n",
    "# #ax.set_xticklabels(('A', 'B', 'C', 'D', 'E'))\n",
    "# ax.legend()\n",
    "\n",
    "# fig.tight_layout()\n",
    "# plt.show()\n"
   ]
  },
  {
   "cell_type": "code",
   "execution_count": 77,
   "metadata": {},
   "outputs": [
    {
     "data": {
      "image/png": "[encoded data removed]",
      "text/plain": [
       "<Figure size 432x288 with 1 Axes>"
      ]
     },
     "metadata": {
      "needs_background": "light"
     },
     "output_type": "display_data"
    }
   ],
   "source": [
    "# Data\n",
    "temp = temp_data\n",
    "\n",
    "\n",
    "# Calculate the average\n",
    "temp_mean = np.mean(temp)\n",
    "\n",
    "# Calculate the standard deviation\n",
    "temp_std = np.std(temp)\n",
    "\n",
    "\n",
    "# Define labels, positions, bar heights and error bar heights\n",
    "labels = ['x_temp']\n",
    "x_pos = np.arange(len(labels))\n",
    "tmean = [temp_mean]\n",
    "error = [temp_std]\n",
    "bar_width = 0.00001\n",
    "\n",
    "#In [3]:\n",
    "# Build the plot\n",
    "fig, ax = plt.subplots()\n",
    "ax.bar(x_pos, tmean,\n",
    "       yerr=error,\n",
    "       align='center',\n",
    "       alpha=0.5,\n",
    "       ecolor='black',\n",
    "       capsize=5, \n",
    "       width=1)\n",
    "\n",
    "#ax.set_xticks('x_pos')\n",
    "ax.set_xticklabels(labels)\n",
    "ax.set_title('Trip Avg Temp')\n",
    "ax.set_ylabel('Temp (F)')\n",
    "ax.yaxis.grid(True)\n",
    "\n",
    "# Save the figure and show\n",
    "plt.tight_layout()\n",
    "#plt.savefig('bar_plot_with_error_bars.png')\n",
    "plt.show()"
   ]
  },
  {
   "cell_type": "code",
   "execution_count": null,
   "metadata": {},
   "outputs": [],
   "source": [
    "# Calculate the rainfall per weather station for your trip dates using the \n",
    "# previous year's matching dates. Sort this in descending order by precipitation \n",
    "# amount and list the station, name, latitude, longitude, and elevation\n",
    "station_prcp_data = session.query(Measurement.station.label('station'), \n",
    "                                  Measurement.prcp.label('percipitation'), \n",
    "                                  func.sum(Measurement.prcp).label('total_prcp')).\\\n",
    "                                  group_by(Measurement.station).\\\n",
    "                                  order_by(func.sum(Measurement.prcp).desc())\n",
    "\n",
    "# station_active_df = pd.DataFrame([(d.station, d.station_count) for d in station_prcp_data], \n",
    "#                                       columns=['station', 'station_count'])\n",
    "# station_prcp_total_df = pd.DataFrame([station_prcp_data])\n",
    "\n",
    "# station_prcp_total_df.head(num_stations)\n",
    "\n",
    "print(station_prcp_data.all())"
   ]
  },
  {
   "cell_type": "markdown",
   "metadata": {},
   "source": [
    "## Optional Challenge Assignment"
   ]
  },
  {
   "cell_type": "code",
   "execution_count": null,
   "metadata": {},
   "outputs": [],
   "source": [
    "# Create a query that will calculate the daily normals \n",
    "# (i.e. the averages for tmin, tmax, and tavg for all historic data matching a specific month and day)\n",
    "\n",
    "def daily_normals(date):\n",
    "    \"\"\"Daily Normals.\n",
    "    \n",
    "    Args:\n",
    "        date (str): A date string in the format '%m-%d'\n",
    "        \n",
    "    Returns:\n",
    "        A list of tuples containing the daily normals, tmin, tavg, and tmax\n",
    "    \n",
    "    \"\"\"\n",
    "    \n",
    "    sel = [func.min(Measurement.tobs), func.avg(Measurement.tobs), func.max(Measurement.tobs)]\n",
    "    return session.query(*sel).filter(func.strftime(\"%m-%d\", Measurement.date) == date).all()\n",
    "    \n",
    "daily_normals(\"01-01\")"
   ]
  },
  {
   "cell_type": "code",
   "execution_count": null,
   "metadata": {},
   "outputs": [],
   "source": [
    "# calculate the daily normals for your trip\n",
    "# push each tuple of calculations into a list called `normals`\n",
    "\n",
    "# Set the start and end date of the trip\n",
    "\n",
    "# Use the start and end date to create a range of dates\n",
    "\n",
    "# Stip off the year and save a list of %m-%d strings\n",
    "\n",
    "# Loop through the list of %m-%d strings and calculate the normals for each date\n"
   ]
  },
  {
   "cell_type": "code",
   "execution_count": null,
   "metadata": {},
   "outputs": [],
   "source": [
    "# Load the previous query results into a Pandas DataFrame and add the `trip_dates` range as the `date` index\n"
   ]
  },
  {
   "cell_type": "code",
   "execution_count": null,
   "metadata": {},
   "outputs": [],
   "source": [
    "# Plot the daily normals as an area plot with `stacked=False`\n"
   ]
  }
 ],
 "metadata": {
  "kernel_info": {
   "name": "python3"
  },
  "kernelspec": {
   "display_name": "Python [conda env:root]",
   "language": "python",
   "name": "conda-root-py"
  },
  "language_info": {
   "codemirror_mode": {
    "name": "ipython",
    "version": 3
   },
   "file_extension": ".py",
   "mimetype": "text/x-python",
   "name": "python",
   "nbconvert_exporter": "python",
   "pygments_lexer": "ipython3",
   "version": "3.7.1"
  },
  "nteract": {
   "version": "0.9.1"
  },
  "varInspector": {
   "cols": {
    "lenName": 16,
    "lenType": 16,
    "lenVar": 40
   },
   "kernels_config": {
    "python": {
     "delete_cmd_postfix": "",
     "delete_cmd_prefix": "del ",
     "library": "var_list.py",
     "varRefreshCmd": "print(var_dic_list())"
    },
    "r": {
     "delete_cmd_postfix": ") ",
     "delete_cmd_prefix": "rm(",
     "library": "var_list.r",
     "varRefreshCmd": "cat(var_dic_list()) "
    }
   },
   "types_to_exclude": [
    "module",
    "function",
    "builtin_function_or_method",
    "instance",
    "_Feature"
   ],
   "window_display": false
  }
 },
 "nbformat": 4,
 "nbformat_minor": 2
}
